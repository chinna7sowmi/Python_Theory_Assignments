{
 "cells": [
  {
   "cell_type": "markdown",
   "id": "161632d0",
   "metadata": {},
   "source": [
    "# 1.What are the two values of the boolean data type? How do you write them?"
   ]
  },
  {
   "cell_type": "raw",
   "id": "ca4498f8",
   "metadata": {},
   "source": [
    "Two values of boolean type are:\n",
    "    -->1\n",
    "    -->0\n",
    "They can be written as\n",
    "  -->True (except zero)\n",
    "  -->False (zero)"
   ]
  },
  {
   "cell_type": "markdown",
   "id": "e9b97ef8",
   "metadata": {},
   "source": [
    "# 2.What are the three different types of boolean operators?"
   ]
  },
  {
   "cell_type": "raw",
   "id": "e0e83ef5",
   "metadata": {},
   "source": [
    "Three different types of boolean operators are:\n",
    "    -->and\n",
    "    -->or\n",
    "    -->not"
   ]
  },
  {
   "cell_type": "markdown",
   "id": "e4b80f5e",
   "metadata": {},
   "source": [
    "# 3.mark a list of each boolean operators truth tables (i.e every possible combination of boolean values for the operator and what its evaluate)"
   ]
  },
  {
   "cell_type": "raw",
   "id": "78e74501",
   "metadata": {},
   "source": [
    "Truth table for and,or:-\n",
    "======================\n",
    "\n",
    "A\tB\tand\tor\n",
    "1\t1\t1\t1\n",
    "1\t0\t0\t1\n",
    "0\t1\t0\t1\n",
    "0\t0\t0\t0\n",
    "\n",
    "Truth Table for not:-\n",
    "===================\n",
    "\n",
    "A\tnot\n",
    "1\t0\n",
    "0\t1\n"
   ]
  },
  {
   "cell_type": "markdown",
   "id": "d8e48a53",
   "metadata": {},
   "source": [
    "# 4.What are the values of the following expression? "
   ]
  },
  {
   "cell_type": "raw",
   "id": "0846761f",
   "metadata": {},
   "source": [
    "(5>4) and (3==5)-->False\n",
    "not(5>4) -->False\n",
    "(5>4) or (3==5) -->True\n",
    "not((5>4) or (3==5))-->False\n",
    "(True and True) and (True == False)-->False\n",
    "(not False) or (not True) -->True"
   ]
  },
  {
   "cell_type": "markdown",
   "id": "ba77932a",
   "metadata": {},
   "source": [
    "# 5.What are the six comparison operators?"
   ]
  },
  {
   "cell_type": "raw",
   "id": "3fa6771f",
   "metadata": {},
   "source": [
    "The following are the six comparison operators.They are:-\n",
    "    1. >  (greater than)\n",
    "    2. >= (greater than or equal to)\n",
    "    3. <  (less than)\n",
    "    4. <= (less than or equal to)\n",
    "    5. == (equal to)\n",
    "    6. != (not equal to)"
   ]
  },
  {
   "cell_type": "markdown",
   "id": "bf8cbaf4",
   "metadata": {},
   "source": [
    "# 6.How do you tell the difference between equal to and assignment operators?"
   ]
  },
  {
   "cell_type": "raw",
   "id": "40884d14",
   "metadata": {},
   "source": [
    "Equal to operator is used for comparing values.Where as assignment operator is used to assigning values for variables.\n",
    "\n",
    "eg:-\n",
    "    a=10 -->assignment operator\n",
    "    a==10 -->equal to operator( for comparing)\n",
    "\n",
    "\n",
    "    \n",
    "a=20 #assignment\n",
    "if(a==20): #comparing value\n",
    "    print(\"given value is equal\")\n",
    "else:\n",
    "    print(\"given value is not equal\")\n",
    "    \n",
    "output:-\n",
    "given value is equal"
   ]
  },
  {
   "cell_type": "markdown",
   "id": "4186b486",
   "metadata": {},
   "source": [
    "# 7.Identify the three blocks in the code?\n",
    "\n",
    "spam=10\n",
    "\n",
    "if spam==10:\n",
    "    print(\"eggs\")\n",
    "if spam>5:\n",
    "    print(\"bacon\")\n",
    "else:\n",
    "    print(\"ham\")\n",
    "    print(\"spam\")\n",
    "    print(\"spam\")"
   ]
  },
  {
   "cell_type": "raw",
   "id": "bdb2186b",
   "metadata": {},
   "source": [
    "The following are three blocks of the code\n",
    "block-1:--\n",
    "----------\n",
    "if spam==10:\n",
    "    print(\"eggs\")\n",
    "    \n",
    "block-2:--\n",
    "----------\n",
    "if spam>5:\n",
    "    print(\"eggs\")\n",
    "    \n",
    "block-3:--\n",
    "----------\n",
    "else:\n",
    "    print(\"ham\")\n",
    "    print(\"spam\")\n",
    "    print(\"spam\")"
   ]
  },
  {
   "cell_type": "markdown",
   "id": "04bbfc42",
   "metadata": {},
   "source": [
    "# 8.Write a code that prints Hello if 1 is stored in spam,prints Howdy if 2 is stored in spam, and prints Greetings! if anything else is stored in spam?"
   ]
  },
  {
   "cell_type": "code",
   "execution_count": 12,
   "id": "5210104d",
   "metadata": {},
   "outputs": [
    {
     "name": "stdout",
     "output_type": "stream",
     "text": [
      "232\n",
      "Greetings\n"
     ]
    }
   ],
   "source": [
    "spam=int(input())\n",
    "if spam==1:\n",
    "    print(\"Hello\")\n",
    "elif spam==2:\n",
    "    print(\"Howdy\")\n",
    "else:\n",
    "    print(\"Greetings\")"
   ]
  },
  {
   "cell_type": "markdown",
   "id": "9929bb45",
   "metadata": {},
   "source": [
    "# 9.If your program is struck in endless loop,what key you'll press?"
   ]
  },
  {
   "cell_type": "raw",
   "id": "458247ef",
   "metadata": {},
   "source": [
    "ctrl+C"
   ]
  },
  {
   "cell_type": "markdown",
   "id": "11d1bf4b",
   "metadata": {},
   "source": [
    "# 10.How can you tell the difference between break and continue?"
   ]
  },
  {
   "cell_type": "raw",
   "id": "fe5b623f",
   "metadata": {},
   "source": [
    "The main difference is break statement stop the loop in which the statement is placed. Where as in continue statement current iteration is skipped remaining all iterations will continue as it is.\n",
    "These two statements are used in for,while loop."
   ]
  },
  {
   "cell_type": "markdown",
   "id": "a78b841f",
   "metadata": {},
   "source": [
    "# 11.In a for loop what is the difference between range(10),range(0,10) and range(0,10,1)?"
   ]
  },
  {
   "cell_type": "raw",
   "id": "2193f05e",
   "metadata": {},
   "source": [
    "for all these three conditions there is no difference between them.Because\n",
    "-->range(10) gives values 0 to 9.In this only one value is given means it is the ending value and by default starting value should be 0\n",
    "and jump value is 1\n",
    "range(0,10) gives values 0 to 9.In this starting value and ending value is given in range function by default jump value is 1\n",
    "range(0,10,1) gives values 0 to 9.In this  starting value,ending value and jump value is given in range function "
   ]
  },
  {
   "cell_type": "markdown",
   "id": "dbf00fa8",
   "metadata": {},
   "source": [
    "# 12.Write a short program that prints the number 1 to 10 using for loop.Then write an equivalent program that prints the numbers 1 to 10 using while loop?"
   ]
  },
  {
   "cell_type": "code",
   "execution_count": 20,
   "id": "be35abfa",
   "metadata": {},
   "outputs": [
    {
     "name": "stdout",
     "output_type": "stream",
     "text": [
      "1\n",
      "2\n",
      "3\n",
      "4\n",
      "5\n",
      "6\n",
      "7\n",
      "8\n",
      "9\n",
      "10\n"
     ]
    }
   ],
   "source": [
    "for i in range(1,11):\n",
    "    print(i)"
   ]
  },
  {
   "cell_type": "code",
   "execution_count": 25,
   "id": "af5faa7c",
   "metadata": {},
   "outputs": [
    {
     "name": "stdout",
     "output_type": "stream",
     "text": [
      "1\n",
      "2\n",
      "3\n",
      "4\n",
      "5\n",
      "6\n",
      "7\n",
      "8\n",
      "9\n",
      "10\n"
     ]
    }
   ],
   "source": [
    "i=1\n",
    "while i<=10:\n",
    "    print(i)\n",
    "    i+=1"
   ]
  },
  {
   "cell_type": "markdown",
   "id": "34b25a94",
   "metadata": {},
   "source": [
    "# 13.If you had a function named bacon() inside a module named spam, how would you call it after importing spam?"
   ]
  },
  {
   "cell_type": "raw",
   "id": "8f2622cd",
   "metadata": {},
   "source": [
    "from spam import bacon"
   ]
  }
 ],
 "metadata": {
  "kernelspec": {
   "display_name": "Python 3 (ipykernel)",
   "language": "python",
   "name": "python3"
  },
  "language_info": {
   "codemirror_mode": {
    "name": "ipython",
    "version": 3
   },
   "file_extension": ".py",
   "mimetype": "text/x-python",
   "name": "python",
   "nbconvert_exporter": "python",
   "pygments_lexer": "ipython3",
   "version": "3.9.7"
  }
 },
 "nbformat": 4,
 "nbformat_minor": 5
}
